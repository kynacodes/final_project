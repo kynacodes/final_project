{
 "cells": [
  {
   "cell_type": "code",
   "execution_count": null,
   "metadata": {},
   "outputs": [],
   "source": [
    "#When cutting down the Pneumonia image count to equal the Normal image count,\n",
    "# the following was used to randomly select files to keep.\n",
    "\n",
    "\n",
    "import os, shutil, random"
   ]
  },
  {
   "cell_type": "code",
   "execution_count": null,
   "metadata": {},
   "outputs": [],
   "source": [
    "#Randomly copying Pneumonia training files to a new directory where # Pneumonia files = # Normal files\n",
    "\n",
    "\n",
    "original_path = '/Users/wintermute/Documents/Data/git/final_project/Project/Data/chest_xray/train/PNEUMONIA/'\n",
    "dest_path = '/Users/wintermute/Documents/Data/git/final_project/Project/Data/sel_random/train/PNEUMONIA/'\n",
    "\n",
    "i = 1341  #Number of Normal train files -1\n",
    "\n",
    "while i > 0:\n",
    "    print(i)\n",
    "\n",
    "    file_name = random.choice(os.listdir(original_path))\n",
    "\n",
    "    if os.path.exists(dest_path + file_name) == True:\n",
    "        pass\n",
    "    else:\n",
    "        shutil.copy2(original_path + file_name, dest_path)\n",
    "        i -= 1"
   ]
  },
  {
   "cell_type": "code",
   "execution_count": null,
   "metadata": {},
   "outputs": [],
   "source": [
    "#Randomly copying Pneumonia validation files to a new directory where # Pneumonia files = # Normal files\n",
    "\n",
    "original_path = '/Users/wintermute/Documents/Data/git/final_project/Project/Data/chest_xray/test/PNEUMONIA/'\n",
    "dest_path = '/Users/wintermute/Documents/Data/git/final_project/Project/Data/sel_random/test/PNEUMONIA/'\n",
    "\n",
    "i = 234 #Number of Normal validation files -1\n",
    "\n",
    "while i > 0:\n",
    "    print(i)\n",
    "\n",
    "    file_name = random.choice(os.listdir(original_path))\n",
    "\n",
    "    if os.path.exists(dest_path + file_name) == True:\n",
    "        pass\n",
    "    else:\n",
    "        shutil.copy2(original_path + file_name, dest_path)\n",
    "        i -= 1"
   ]
  },
  {
   "cell_type": "code",
   "execution_count": null,
   "metadata": {},
   "outputs": [],
   "source": []
  }
 ],
 "metadata": {
  "kernelspec": {
   "display_name": "Python 3",
   "language": "python",
   "name": "python3"
  },
  "language_info": {
   "codemirror_mode": {
    "name": "ipython",
    "version": 3
   },
   "file_extension": ".py",
   "mimetype": "text/x-python",
   "name": "python",
   "nbconvert_exporter": "python",
   "pygments_lexer": "ipython3",
   "version": "3.7.6"
  }
 },
 "nbformat": 4,
 "nbformat_minor": 4
}
