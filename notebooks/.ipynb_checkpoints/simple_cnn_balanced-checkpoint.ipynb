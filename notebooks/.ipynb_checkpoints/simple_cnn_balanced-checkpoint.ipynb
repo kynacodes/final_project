{
 "cells": [
  {
   "cell_type": "code",
   "execution_count": 51,
   "metadata": {
    "colab": {
     "base_uri": "https://localhost:8080/",
     "height": 54
    },
    "colab_type": "code",
    "executionInfo": {
     "elapsed": 298,
     "status": "ok",
     "timestamp": 1594940685230,
     "user": {
      "displayName": "John Jostes",
      "photoUrl": "https://lh4.googleusercontent.com/-nR_nQICux7Y/AAAAAAAAAAI/AAAAAAAAAPE/Gij6SzlyfaE/s64/photo.jpg",
      "userId": "08601999507343070369"
     },
     "user_tz": 300
    },
    "id": "OrqyVYo3EJjJ",
    "outputId": "24c4b59e-746f-4f02-ea6e-341ef6ebd86e"
   },
   "outputs": [
    {
     "name": "stdout",
     "output_type": "stream",
     "text": [
      "Drive already mounted at /content/drive; to attempt to forcibly remount, call drive.mount(\"/content/drive\", force_remount=True).\n"
     ]
    }
   ],
   "source": [
    "from google.colab import drive\n",
    "drive.mount('/content/drive')"
   ]
  },
  {
   "cell_type": "code",
   "execution_count": null,
   "metadata": {
    "colab": {},
    "colab_type": "code",
    "id": "EiRVVqosv5J5"
   },
   "outputs": [],
   "source": [
    "import zipfile\n",
    "\n",
    "zip_ref = zipfile.ZipFile(\"/content/drive/My Drive/Colab Notebooks/Final Project/balanced_data.zip\", 'r')\n",
    "\n",
    "zip_ref.extractall(\"/tmp\")\n",
    "zip_ref.close()"
   ]
  },
  {
   "cell_type": "code",
   "execution_count": null,
   "metadata": {
    "colab": {},
    "colab_type": "code",
    "id": "I0TpnYeuzQGf"
   },
   "outputs": [],
   "source": [
    "import os\n",
    "import keras\n",
    "from keras.preprocessing.image import ImageDataGenerator"
   ]
  },
  {
   "cell_type": "code",
   "execution_count": null,
   "metadata": {
    "colab": {
     "base_uri": "https://localhost:8080/",
     "height": 34
    },
    "colab_type": "code",
    "executionInfo": {
     "elapsed": 1245,
     "status": "ok",
     "timestamp": 1594937771472,
     "user": {
      "displayName": "John Jostes",
      "photoUrl": "https://lh4.googleusercontent.com/-nR_nQICux7Y/AAAAAAAAAAI/AAAAAAAAAPE/Gij6SzlyfaE/s64/photo.jpg",
      "userId": "08601999507343070369"
     },
     "user_tz": 300
    },
    "id": "v5_dGo2EsqWe",
    "outputId": "2ae9d333-7779-4c04-ec5a-271873fddb69"
   },
   "outputs": [
    {
     "name": "stdout",
     "output_type": "stream",
     "text": [
      "test  train  val\n"
     ]
    }
   ],
   "source": [
    "!ls \"/tmp/balanced_data/\""
   ]
  },
  {
   "cell_type": "code",
   "execution_count": null,
   "metadata": {
    "colab": {},
    "colab_type": "code",
    "id": "oDmFgLYM0r2k"
   },
   "outputs": [],
   "source": [
    "base_dir = '/tmp/balanced_data/'\n",
    "\n",
    "#the original dataset interchanged 'test' with 'validation,' with the latter being the 'holdout' dataset\n",
    "train_dir = os.path.join(base_dir, 'train')\n",
    "test_dir = os.path.join(base_dir, 'test')\n",
    "validation_dir = os.path.join(base_dir, 'val')\n",
    "\n",
    "#training images\n",
    "# train_n_dir = os.path.join(train_dir, 'normal')\n",
    "# train_p_dir = os.path.join(train_dir, 'pneumonia')\n",
    "\n",
    "#validation images\n",
    "# val_n_dir = os.path.join(validation_dir, 'normal')\n",
    "# val_p_dir = os.path.join(validation_dir, 'pneumonia')"
   ]
  },
  {
   "cell_type": "code",
   "execution_count": null,
   "metadata": {
    "colab": {
     "base_uri": "https://localhost:8080/",
     "height": 68
    },
    "colab_type": "code",
    "executionInfo": {
     "elapsed": 783,
     "status": "ok",
     "timestamp": 1594937772229,
     "user": {
      "displayName": "John Jostes",
      "photoUrl": "https://lh4.googleusercontent.com/-nR_nQICux7Y/AAAAAAAAAAI/AAAAAAAAAPE/Gij6SzlyfaE/s64/photo.jpg",
      "userId": "08601999507343070369"
     },
     "user_tz": 300
    },
    "id": "RJeM2wJHsH0o",
    "outputId": "eb7406ce-6584-4a9f-b074-3e538f6083c3"
   },
   "outputs": [
    {
     "name": "stdout",
     "output_type": "stream",
     "text": [
      "Found 2682 images belonging to 2 classes.\n",
      "Found 468 images belonging to 2 classes.\n",
      "Found 16 images belonging to 2 classes.\n"
     ]
    }
   ],
   "source": [
    "train_datagen = ImageDataGenerator(rescale = 1.0/500. )\n",
    "test_datagen = ImageDataGenerator(rescale = 1.0/500. )\n",
    "val_datagen = ImageDataGenerator(rescale = 1.0/500. )\n",
    "\n",
    "\n",
    "train_generator = train_datagen.flow_from_directory(train_dir, \n",
    "                                                    batch_size=20,\n",
    "                                                    color_mode='grayscale',\n",
    "                                                    class_mode='categorical',\n",
    "                                                    target_size=(150, 150))\n",
    "                                                    # shuffle=True,\n",
    "                                                    # seed=42)\n",
    "\n",
    "\n",
    "test_generator = test_datagen.flow_from_directory(test_dir, \n",
    "                                                 batch_size=20,\n",
    "                                                 color_mode='grayscale',\n",
    "                                                 class_mode='categorical',\n",
    "                                                 target_size=(150, 150))\n",
    "                                                #  shuffle=True,\n",
    "                                                #  seed=42))\n",
    "\n",
    "\n",
    "val_generator = test_datagen.flow_from_directory(validation_dir, \n",
    "                                                 batch_size=20,\n",
    "                                                 color_mode='grayscale',\n",
    "                                                 class_mode='categorical',\n",
    "                                                 target_size=(150, 150))\n",
    "                                                #  shuffle=True,\n",
    "                                                #  seed=42))"
   ]
  },
  {
   "cell_type": "code",
   "execution_count": null,
   "metadata": {
    "colab": {},
    "colab_type": "code",
    "id": "OPgMAw6osNRa"
   },
   "outputs": [],
   "source": [
    "from keras.models import Sequential\n",
    "from keras.layers import Dense, Dropout, Flatten\n",
    "from keras.layers import Conv2D, MaxPooling2D\n",
    "\n",
    "model = Sequential()\n",
    "\n",
    "model.add(Conv2D(16, kernel_size=(3,3), activation='relu', input_shape=(150, 150, 1)))\n",
    "model.add(MaxPooling2D(2,2))\n",
    "model.add(Conv2D(32, (3,3), activation='relu'))\n",
    "model.add(MaxPooling2D(2,2))\n",
    "model.add(Conv2D(64, (3,3), activation='relu'))\n",
    "model.add(MaxPooling2D(2,2))\n",
    "model.add(Flatten())\n",
    "model.add(Dense(1024, activation='relu'))\n",
    "model.add(Dense(2, activation='sigmoid'))"
   ]
  },
  {
   "cell_type": "code",
   "execution_count": null,
   "metadata": {
    "colab": {
     "base_uri": "https://localhost:8080/",
     "height": 255
    },
    "colab_type": "code",
    "executionInfo": {
     "elapsed": 391076,
     "status": "ok",
     "timestamp": 1594938165263,
     "user": {
      "displayName": "John Jostes",
      "photoUrl": "https://lh4.googleusercontent.com/-nR_nQICux7Y/AAAAAAAAAAI/AAAAAAAAAPE/Gij6SzlyfaE/s64/photo.jpg",
      "userId": "08601999507343070369"
     },
     "user_tz": 300
    },
    "id": "UBQF9OGNuRsA",
    "outputId": "9eb3db69-bf1a-4922-bcff-a6df60dd9d89"
   },
   "outputs": [
    {
     "name": "stdout",
     "output_type": "stream",
     "text": [
      "Epoch 1/7\n",
      "50/50 [==============================] - 60s 1s/step - loss: 0.6736 - accuracy: 0.6050 - val_loss: 0.6775 - val_accuracy: 0.5379\n",
      "Epoch 2/7\n",
      "50/50 [==============================] - 57s 1s/step - loss: 0.5696 - accuracy: 0.7434 - val_loss: 0.4663 - val_accuracy: 0.7613\n",
      "Epoch 3/7\n",
      "50/50 [==============================] - 55s 1s/step - loss: 0.2781 - accuracy: 0.8960 - val_loss: 0.4610 - val_accuracy: 0.6291\n",
      "Epoch 4/7\n",
      "50/50 [==============================] - 54s 1s/step - loss: 0.2207 - accuracy: 0.9094 - val_loss: 0.3426 - val_accuracy: 0.8658\n",
      "Epoch 5/7\n",
      "50/50 [==============================] - 55s 1s/step - loss: 0.1641 - accuracy: 0.9440 - val_loss: 0.2664 - val_accuracy: 0.7725\n",
      "Epoch 6/7\n",
      "50/50 [==============================] - 54s 1s/step - loss: 0.1585 - accuracy: 0.9379 - val_loss: 0.7636 - val_accuracy: 0.7234\n",
      "Epoch 7/7\n",
      "50/50 [==============================] - 55s 1s/step - loss: 0.1263 - accuracy: 0.9540 - val_loss: 0.8582 - val_accuracy: 0.7182\n"
     ]
    }
   ],
   "source": [
    "# from keras.optimizers import RMSprop\n",
    "\n",
    "# model.compile(optimizer=RMSprop(lr=0.001),\n",
    "#               loss = 'binary_crossentropy',\n",
    "#               metrics = ['acc'])\n",
    "\n",
    "# from sklearn.utils import class_weight\n",
    "# import numpy as np\n",
    "\n",
    "# class_weights = class_weight.compute_class_weight(\n",
    "#            'balanced',\n",
    "#             np.unique(train_generator.classes), \n",
    "#             train_generator.classes)\n",
    "\n",
    "\n",
    "model.compile(loss=keras.losses.categorical_crossentropy,\n",
    "              optimizer=keras.optimizers.Adadelta(),\n",
    "              metrics=['accuracy'])\n",
    "\n",
    "\n",
    "\n",
    "history = model.fit_generator(train_generator, validation_data=test_generator,\n",
    "                    steps_per_epoch=50,\n",
    "                    epochs=7,\n",
    "                    validation_steps=50,\n",
    "                    verbose=1)"
   ]
  },
  {
   "cell_type": "code",
   "execution_count": null,
   "metadata": {
    "colab": {},
    "colab_type": "code",
    "id": "DFtbrzbcPMuF"
   },
   "outputs": [],
   "source": [
    "import pandas as pd\n",
    "import numpy as np"
   ]
  },
  {
   "cell_type": "code",
   "execution_count": null,
   "metadata": {
    "colab": {
     "base_uri": "https://localhost:8080/",
     "height": 266
    },
    "colab_type": "code",
    "executionInfo": {
     "elapsed": 251,
     "status": "ok",
     "timestamp": 1594939066667,
     "user": {
      "displayName": "John Jostes",
      "photoUrl": "https://lh4.googleusercontent.com/-nR_nQICux7Y/AAAAAAAAAAI/AAAAAAAAAPE/Gij6SzlyfaE/s64/photo.jpg",
      "userId": "08601999507343070369"
     },
     "user_tz": 300
    },
    "id": "lsFydDvy2Mzw",
    "outputId": "540230fe-69fe-4c0a-ccc4-05708f6aad2c"
   },
   "outputs": [
    {
     "data": {
      "text/html": [
       "<div>\n",
       "<style scoped>\n",
       "    .dataframe tbody tr th:only-of-type {\n",
       "        vertical-align: middle;\n",
       "    }\n",
       "\n",
       "    .dataframe tbody tr th {\n",
       "        vertical-align: top;\n",
       "    }\n",
       "\n",
       "    .dataframe thead th {\n",
       "        text-align: right;\n",
       "    }\n",
       "</style>\n",
       "<table border=\"1\" class=\"dataframe\">\n",
       "  <thead>\n",
       "    <tr style=\"text-align: right;\">\n",
       "      <th></th>\n",
       "      <th>val_loss</th>\n",
       "      <th>val_accuracy</th>\n",
       "      <th>loss</th>\n",
       "      <th>accuracy</th>\n",
       "    </tr>\n",
       "  </thead>\n",
       "  <tbody>\n",
       "    <tr>\n",
       "      <th>0</th>\n",
       "      <td>0.677519</td>\n",
       "      <td>0.537910</td>\n",
       "      <td>0.673596</td>\n",
       "      <td>0.605000</td>\n",
       "    </tr>\n",
       "    <tr>\n",
       "      <th>1</th>\n",
       "      <td>0.466307</td>\n",
       "      <td>0.761270</td>\n",
       "      <td>0.573690</td>\n",
       "      <td>0.743381</td>\n",
       "    </tr>\n",
       "    <tr>\n",
       "      <th>2</th>\n",
       "      <td>0.460978</td>\n",
       "      <td>0.629098</td>\n",
       "      <td>0.278144</td>\n",
       "      <td>0.896000</td>\n",
       "    </tr>\n",
       "    <tr>\n",
       "      <th>3</th>\n",
       "      <td>0.342590</td>\n",
       "      <td>0.865779</td>\n",
       "      <td>0.222603</td>\n",
       "      <td>0.909369</td>\n",
       "    </tr>\n",
       "    <tr>\n",
       "      <th>4</th>\n",
       "      <td>0.266351</td>\n",
       "      <td>0.772541</td>\n",
       "      <td>0.164074</td>\n",
       "      <td>0.944000</td>\n",
       "    </tr>\n",
       "    <tr>\n",
       "      <th>5</th>\n",
       "      <td>0.763580</td>\n",
       "      <td>0.723361</td>\n",
       "      <td>0.161345</td>\n",
       "      <td>0.937882</td>\n",
       "    </tr>\n",
       "    <tr>\n",
       "      <th>6</th>\n",
       "      <td>0.858170</td>\n",
       "      <td>0.718238</td>\n",
       "      <td>0.126331</td>\n",
       "      <td>0.954000</td>\n",
       "    </tr>\n",
       "  </tbody>\n",
       "</table>\n",
       "</div>"
      ],
      "text/plain": [
       "   val_loss  val_accuracy      loss  accuracy\n",
       "0  0.677519      0.537910  0.673596  0.605000\n",
       "1  0.466307      0.761270  0.573690  0.743381\n",
       "2  0.460978      0.629098  0.278144  0.896000\n",
       "3  0.342590      0.865779  0.222603  0.909369\n",
       "4  0.266351      0.772541  0.164074  0.944000\n",
       "5  0.763580      0.723361  0.161345  0.937882\n",
       "6  0.858170      0.718238  0.126331  0.954000"
      ]
     },
     "execution_count": 43,
     "metadata": {
      "tags": []
     },
     "output_type": "execute_result"
    }
   ],
   "source": [
    "history_df = pd.DataFrame(history.history)\n",
    "\n",
    "history_df"
   ]
  },
  {
   "cell_type": "code",
   "execution_count": null,
   "metadata": {
    "colab": {
     "base_uri": "https://localhost:8080/",
     "height": 323
    },
    "colab_type": "code",
    "executionInfo": {
     "elapsed": 1932,
     "status": "ok",
     "timestamp": 1594939072039,
     "user": {
      "displayName": "John Jostes",
      "photoUrl": "https://lh4.googleusercontent.com/-nR_nQICux7Y/AAAAAAAAAAI/AAAAAAAAAPE/Gij6SzlyfaE/s64/photo.jpg",
      "userId": "08601999507343070369"
     },
     "user_tz": 300
    },
    "id": "o2RhaEfpUXUH",
    "outputId": "e6bbdb4d-3647-4a1d-cdd3-06c17a29d4e8"
   },
   "outputs": [
    {
     "name": "stdout",
     "output_type": "stream",
     "text": [
      "\r",
      "1/1 [==============================] - 0s 358ms/step\n",
      "                                   Filename Predictions\n",
      "0          NORMAL/NORMAL2-IM-1427-0001.jpeg   PNEUMONIA\n",
      "1          NORMAL/NORMAL2-IM-1430-0001.jpeg      NORMAL\n",
      "2          NORMAL/NORMAL2-IM-1431-0001.jpeg   PNEUMONIA\n",
      "3          NORMAL/NORMAL2-IM-1436-0001.jpeg      NORMAL\n",
      "4          NORMAL/NORMAL2-IM-1437-0001.jpeg   PNEUMONIA\n",
      "5          NORMAL/NORMAL2-IM-1438-0001.jpeg   PNEUMONIA\n",
      "6          NORMAL/NORMAL2-IM-1440-0001.jpeg   PNEUMONIA\n",
      "7          NORMAL/NORMAL2-IM-1442-0001.jpeg   PNEUMONIA\n",
      "8   PNEUMONIA/person1946_bacteria_4874.jpeg   PNEUMONIA\n",
      "9   PNEUMONIA/person1946_bacteria_4875.jpeg   PNEUMONIA\n",
      "10  PNEUMONIA/person1947_bacteria_4876.jpeg   PNEUMONIA\n",
      "11  PNEUMONIA/person1949_bacteria_4880.jpeg   PNEUMONIA\n",
      "12  PNEUMONIA/person1950_bacteria_4881.jpeg   PNEUMONIA\n",
      "13  PNEUMONIA/person1951_bacteria_4882.jpeg   PNEUMONIA\n",
      "14  PNEUMONIA/person1952_bacteria_4883.jpeg      NORMAL\n",
      "15  PNEUMONIA/person1954_bacteria_4886.jpeg   PNEUMONIA\n"
     ]
    }
   ],
   "source": [
    "test_generator.reset()\n",
    "\n",
    "pred = model.predict_generator(val_generator,verbose=1)\n",
    "\n",
    "predicted_class_indices=np.argmax(pred,axis=1)\n",
    "\n",
    "labels = (val_generator.class_indices)\n",
    "labels = dict((v,k) for k,v in labels.items())\n",
    "predictions = [labels[k] for k in predicted_class_indices]\n",
    "\n",
    "filenames=val_generator.filenames\n",
    "results=pd.DataFrame({\"Filename\":filenames,\n",
    "                      \"Predictions\":predictions})\n",
    "\n",
    "print(results.to_string())"
   ]
  },
  {
   "cell_type": "code",
   "execution_count": null,
   "metadata": {
    "colab": {
     "base_uri": "https://localhost:8080/",
     "height": 1000
    },
    "colab_type": "code",
    "executionInfo": {
     "elapsed": 1076,
     "status": "ok",
     "timestamp": 1594939167196,
     "user": {
      "displayName": "John Jostes",
      "photoUrl": "https://lh4.googleusercontent.com/-nR_nQICux7Y/AAAAAAAAAAI/AAAAAAAAAPE/Gij6SzlyfaE/s64/photo.jpg",
      "userId": "08601999507343070369"
     },
     "user_tz": 300
    },
    "id": "GgBc0rPG9v2k",
    "outputId": "77974d63-3046-4f81-d667-f8520e4aaa80"
   },
   "outputs": [
    {
     "data": {
      "image/png": "[encoded data removed]",
      "text/plain": [
       "<IPython.core.display.Image object>"
      ]
     },
     "execution_count": 45,
     "metadata": {
      "tags": []
     },
     "output_type": "execute_result"
    }
   ],
   "source": [
    "import tensorflow as tf\n",
    "\n",
    "dot_img_file = '/content/drive/My Drive/Colab Notebooks/Final Project/images/simple_balanced.png'\n",
    "tf.keras.utils.plot_model(model, to_file=dot_img_file, show_shapes=True)"
   ]
  },
  {
   "cell_type": "code",
   "execution_count": 52,
   "metadata": {
    "colab": {},
    "colab_type": "code",
    "executionInfo": {
     "elapsed": 761,
     "status": "ok",
     "timestamp": 1594940747415,
     "user": {
      "displayName": "John Jostes",
      "photoUrl": "https://lh4.googleusercontent.com/-nR_nQICux7Y/AAAAAAAAAAI/AAAAAAAAAPE/Gij6SzlyfaE/s64/photo.jpg",
      "userId": "08601999507343070369"
     },
     "user_tz": 300
    },
    "id": "Y9EocV8jVoCA"
   },
   "outputs": [],
   "source": [
    "from tensorflow.keras.utils import plot_model\n",
    "from tensorflow.keras.models import model_from_json\n",
    "\n",
    "# save_path = '/content/drive/My Drive/Colab Notebooks/Final Project/models/'\n",
    "\n",
    "dot_img_file = '/content/drive/My Drive/Colab Notebooks/Final Project/images/simple_balanced.png'\n",
    "plot_model(model, to_file=dot_img_file, show_shapes=True)\n",
    "\n",
    "results.to_csv('/content/drive/My Drive/Colab Notebooks/Final Project/models/simple_balanced/simple_bal_eval.csv', index=False)\n",
    "history_df.to_csv('/content/drive/My Drive/Colab Notebooks/Final Project/models/simple_balanced/simple_bal_acc.csv', index=False)\n",
    "\n",
    "model_json = model.to_json()\n",
    "with open('/content/drive/My Drive/Colab Notebooks/Final Project/models/simple_balanced/simple_bal_model.json', 'w') as json_file:\n",
    "    json_file.write(model_json)\n",
    "# serialize weights to HDF5\n",
    "model.save_weights('/content/drive/My Drive/Colab Notebooks/Final Project/models/simple_balanced/simple_bal_model.h5')"
   ]
  },
  {
   "cell_type": "code",
   "execution_count": null,
   "metadata": {
    "colab": {},
    "colab_type": "code",
    "id": "GWVNaqiU1oW0"
   },
   "outputs": [],
   "source": []
  }
 ],
 "metadata": {
  "colab": {
   "collapsed_sections": [],
   "name": "simple_cnn_balanced.ipynb",
   "provenance": []
  },
  "kernelspec": {
   "display_name": "Python 3",
   "language": "python",
   "name": "python3"
  },
  "language_info": {
   "codemirror_mode": {
    "name": "ipython",
    "version": 3
   },
   "file_extension": ".py",
   "mimetype": "text/x-python",
   "name": "python",
   "nbconvert_exporter": "python",
   "pygments_lexer": "ipython3",
   "version": "3.7.6"
  }
 },
 "nbformat": 4,
 "nbformat_minor": 1
}
